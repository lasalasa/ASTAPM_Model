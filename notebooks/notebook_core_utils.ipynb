{
 "cells": [
  {
   "cell_type": "code",
   "execution_count": 4,
   "id": "6a871c86",
   "metadata": {},
   "outputs": [],
   "source": [
    "PATH_PREFIX = '../data/local_ex/astapm'"
   ]
  },
  {
   "cell_type": "code",
   "execution_count": 3,
   "id": "fd5d7b66",
   "metadata": {},
   "outputs": [],
   "source": [
    "import pandas as pd\n",
    "\n",
    "# Variables\n",
    "FACTOR_COL_NAME = \"finding_description\"\n",
    "\n",
    "factors_columns = [ FACTOR_COL_NAME ]\n",
    "\n",
    "narrative_columns = ['narrative_01', 'narrative_02']\n",
    "\n",
    "filtered_columns = ['event_id'] + factors_columns + narrative_columns\n",
    "\n",
    "# PATH_PREFIX = '../../data/local_ex/astapm'\n",
    "\n",
    "class CoreUtils:\n",
    "    #----------- Data Manipulation Func ----------\n",
    "\n",
    "    @staticmethod\n",
    "    def get_constant():\n",
    "        return {\n",
    "            \"FACTOR_COL_NAME\": FACTOR_COL_NAME,\n",
    "        }\n",
    "    \n",
    "    @staticmethod\n",
    "    def get_factor_cols():\n",
    "        return factors_columns\n",
    "    \n",
    "    @staticmethod\n",
    "    def get_narrative_cols():\n",
    "        return narrative_columns\n",
    "\n",
    "    @staticmethod\n",
    "    def get_filtered_cols():\n",
    "        return filtered_columns\n",
    "\n",
    "    @staticmethod\n",
    "    def get_data(ds_name, from_year=2020, to_year=2023):\n",
    "\n",
    "        path_prefix = PATH_PREFIX\n",
    "\n",
    "        asrs = pd.read_csv(f'{path_prefix}/{ds_name}/{ds_name}.csv', low_memory=False)\n",
    "        asrs_narrative = pd.read_csv(f'{path_prefix}/{ds_name}/{ds_name}_narrative.csv', low_memory=False)\n",
    "        asrs_factors = pd.read_csv(f'{path_prefix}/{ds_name}/{ds_name}_safety_factors.csv', low_memory=False)\n",
    "\n",
    "        data_df = pd.merge(asrs, asrs_narrative, on='event_id', how='left')\n",
    "        data_df = pd.merge(data_df, asrs_factors, on='event_id', how='left')\n",
    "\n",
    "        data_df = data_df[(data_df['year'] >= from_year) & (data_df['year'] <= to_year)]\n",
    "\n",
    "        df = data_df[filtered_columns].copy()\n",
    "        return df"
   ]
  }
 ],
 "metadata": {
  "kernelspec": {
   "display_name": "Python 3 (ipykernel)",
   "language": "python",
   "name": "python3"
  },
  "language_info": {
   "codemirror_mode": {
    "name": "ipython",
    "version": 3
   },
   "file_extension": ".py",
   "mimetype": "text/x-python",
   "name": "python",
   "nbconvert_exporter": "python",
   "pygments_lexer": "ipython3",
   "version": "3.12.0"
  }
 },
 "nbformat": 4,
 "nbformat_minor": 5
}
