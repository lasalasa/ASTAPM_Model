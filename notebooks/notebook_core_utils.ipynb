{
 "cells": [
  {
   "cell_type": "code",
   "execution_count": 3,
   "id": "6a871c86",
   "metadata": {},
   "outputs": [],
   "source": [
    "PATH_PREFIX = '../data/local_ex/astapm'"
   ]
  },
  {
   "cell_type": "code",
   "execution_count": 1,
   "id": "fd5d7b66",
   "metadata": {},
   "outputs": [],
   "source": [
    "import pandas as pd\n",
    "\n",
    "# Variables\n",
    "MANUAL_CLASSIFICATION_FACTOR = \"finding_factor\"\n",
    "LS_CLASSIFICATION_FACTOR = \"finding_description\"\n",
    "\n",
    "factors_columns = [ MANUAL_CLASSIFICATION_FACTOR, LS_CLASSIFICATION_FACTOR ]\n",
    "\n",
    "narrative_columns = ['narrative_01', 'narrative_02']\n",
    "\n",
    "filtered_columns = ['event_id', 'date'] + factors_columns + narrative_columns\n",
    "\n",
    "# PATH_PREFIX = '../../data/local_ex/astapm'\n",
    "\n",
    "class CoreUtils:\n",
    "    #----------- Data Manipulation Func ----------\n",
    "\n",
    "    @staticmethod\n",
    "    def get_constant():\n",
    "        return {\n",
    "            \"LS_CLASSIFICATION_FACTOR\": LS_CLASSIFICATION_FACTOR,\n",
    "            \"MANUAL_CLASSIFICATION_FACTOR\": MANUAL_CLASSIFICATION_FACTOR\n",
    "        }\n",
    "    \n",
    "    @staticmethod\n",
    "    def get_factor_cols():\n",
    "        return factors_columns\n",
    "    \n",
    "    @staticmethod\n",
    "    def get_narrative_cols():\n",
    "        return narrative_columns\n",
    "\n",
    "    @staticmethod\n",
    "    def get_filtered_cols():\n",
    "        return filtered_columns\n",
    "\n",
    "    @staticmethod\n",
    "    def get_data(ds_name, from_year=2022, to_year=2024):\n",
    "\n",
    "        path_prefix = PATH_PREFIX\n",
    "\n",
    "        data_df = pd.read_csv(f'{path_prefix}/{ds_name}/{ds_name}.csv', low_memory=False)\n",
    "        # asrs_narrative = pd.read_csv(f'{path_prefix}/{ds_name}/{ds_name}_narrative.csv', low_memory=False)\n",
    "        # asrs_factors = pd.read_csv(f'{path_prefix}/{ds_name}/{ds_name}_safety_factors.csv', low_memory=False)\n",
    "\n",
    "        # data_df = pd.merge(asrs, asrs_narrative, on='event_id', how='left')\n",
    "        # data_df = pd.merge(data_df, asrs_factors, on='event_id', how='left')\n",
    "\n",
    "        data_df = data_df[(data_df['year'] >= from_year) & (data_df['year'] <= to_year)]\n",
    "\n",
    "        df = data_df[filtered_columns].copy()\n",
    "        return df"
   ]
  },
  {
   "cell_type": "code",
   "execution_count": 20,
   "id": "280f3a2a",
   "metadata": {},
   "outputs": [],
   "source": [
    "# df_asrs = CoreUtils.get_data('asrs')\n",
    "\n",
    "# df_01 = df_asrs.sample(n=1000, random_state=42)\n",
    "# # df_ntsb = CoreUtils.get_data('ntsb')\n",
    "# # df_02 = df_ntsb.sample(n=1000, random_state=42)\n",
    "# df = pd.concat([df_01], axis=0).reset_index(drop=True)\n",
    "\n"
   ]
  },
  {
   "cell_type": "code",
   "execution_count": 22,
   "id": "32226fa5",
   "metadata": {},
   "outputs": [
    {
     "data": {
      "text/html": [
       "<div>\n",
       "<style scoped>\n",
       "    .dataframe tbody tr th:only-of-type {\n",
       "        vertical-align: middle;\n",
       "    }\n",
       "\n",
       "    .dataframe tbody tr th {\n",
       "        vertical-align: top;\n",
       "    }\n",
       "\n",
       "    .dataframe thead th {\n",
       "        text-align: right;\n",
       "    }\n",
       "</style>\n",
       "<table border=\"1\" class=\"dataframe\">\n",
       "  <thead>\n",
       "    <tr style=\"text-align: right;\">\n",
       "      <th></th>\n",
       "      <th>event_id</th>\n",
       "      <th>narrative_word_count</th>\n",
       "      <th>narrative</th>\n",
       "      <th>narrative_01</th>\n",
       "      <th>narrative_02</th>\n",
       "    </tr>\n",
       "  </thead>\n",
       "  <tbody>\n",
       "  </tbody>\n",
       "</table>\n",
       "</div>"
      ],
      "text/plain": [
       "Empty DataFrame\n",
       "Columns: [event_id, narrative_word_count, narrative, narrative_01, narrative_02]\n",
       "Index: []"
      ]
     },
     "execution_count": 22,
     "metadata": {},
     "output_type": "execute_result"
    }
   ],
   "source": [
    "# def counting_narrative(df):\n",
    "#         # df['narrative_01'] = df['narrative_01'].fillna('')\n",
    "#         df['narrative_02'] = df['narrative_02'].fillna('')\n",
    "\n",
    "#         # Step 4: Combine 'narrative_01' and 'narrative_02' into a single 'narrative' column\n",
    "#         # code adapted from GeeksforGeeks (2021)\n",
    "#         df['narrative'] = df['narrative_01'].str.cat(df['narrative_02'], sep=' ', na_rep='')\n",
    "        \n",
    "#         df['narrative_length'] = df['narrative'].apply(len)\n",
    "#         # Count words in each narrative\n",
    "#         df['narrative_word_count'] = df['narrative'].apply(lambda x: len(x.split()))\n",
    "\n",
    "#         # Count sentences in each narrative\n",
    "#         df['narrative_sentence_count'] = df['narrative'].apply(lambda x: len(x.split('. ')))\n",
    "        \n",
    "#         return df\n",
    "\n",
    "# new_df = counting_narrative(df)\n",
    "# new_df.isnull().sum()\n",
    "# new_df = new_df[new_df['narrative_word_count'] == 0].copy()\n",
    "# new_df[['event_id', 'narrative_word_count', 'narrative', 'narrative_01', 'narrative_02']]"
   ]
  }
 ],
 "metadata": {
  "kernelspec": {
   "display_name": "Python 3 (ipykernel)",
   "language": "python",
   "name": "python3"
  },
  "language_info": {
   "codemirror_mode": {
    "name": "ipython",
    "version": 3
   },
   "file_extension": ".py",
   "mimetype": "text/x-python",
   "name": "python",
   "nbconvert_exporter": "python",
   "pygments_lexer": "ipython3",
   "version": "3.12.0"
  }
 },
 "nbformat": 4,
 "nbformat_minor": 5
}
